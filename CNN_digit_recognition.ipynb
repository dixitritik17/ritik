{
  "nbformat": 4,
  "nbformat_minor": 0,
  "metadata": {
    "colab": {
      "name": "CNN-digit recognition",
      "provenance": [],
      "collapsed_sections": [],
      "authorship_tag": "ABX9TyN02gMBskR2ij3mO62nOayW",
      "include_colab_link": true
    },
    "kernelspec": {
      "name": "python3",
      "display_name": "Python 3"
    }
  },
  "cells": [
    {
      "cell_type": "markdown",
      "metadata": {
        "id": "view-in-github",
        "colab_type": "text"
      },
      "source": [
        "<a href=\"https://colab.research.google.com/github/dixitritik17/ritik/blob/master/CNN_digit_recognition.ipynb\" target=\"_parent\"><img src=\"https://colab.research.google.com/assets/colab-badge.svg\" alt=\"Open In Colab\"/></a>"
      ]
    },
    {
      "cell_type": "code",
      "metadata": {
        "id": "VkOn09qKIT2P",
        "colab_type": "code",
        "colab": {}
      },
      "source": [
        "import keras\n",
        "mnist = keras.datasets.mnist\n",
        "(x_train, y_train), (x_test, y_test) = mnist.load_data()"
      ],
      "execution_count": 0,
      "outputs": []
    },
    {
      "cell_type": "code",
      "metadata": {
        "id": "QrbJ2XwAIpyn",
        "colab_type": "code",
        "outputId": "4e4eb2e6-9944-4697-b4f8-a73b6c3e0e19",
        "colab": {
          "base_uri": "https://localhost:8080/",
          "height": 282
        }
      },
      "source": [
        "import matplotlib.pyplot as plt\n",
        "plt.imshow(x_train[1]) \n",
        "plt.show()\n",
        "print(y_train[1])"
      ],
      "execution_count": 12,
      "outputs": [
        {
          "output_type": "display_data",
          "data": {
            "image/png": "[encoded data removed]",
            "text/plain": [
              "<Figure size 432x288 with 1 Axes>"
            ]
          },
          "metadata": {
            "tags": [],
            "needs_background": "light"
          }
        },
        {
          "output_type": "stream",
          "text": [
            "0\n"
          ],
          "name": "stdout"
        }
      ]
    },
    {
      "cell_type": "code",
      "metadata": {
        "id": "yrNmhvuXJoC4",
        "colab_type": "code",
        "colab": {}
      },
      "source": [
        "#Reshape the data\n",
        "x_train = x_train.reshape(x_train.shape[0], 28, 28, 1)\n",
        "x_test = x_test.reshape(x_test.shape[0], 28, 28, 1)\n",
        "input_shape = (28, 28, 1)\n",
        "\n",
        "\n",
        "#Normalize the pixel values from a scale out of 255 to a scale out of 1\n",
        "x_train = x_train.astype('float32')\n",
        "x_test = x_test.astype('float32')\n",
        "x_train /= 255\n",
        "x_test /= 255"
      ],
      "execution_count": 0,
      "outputs": []
    },
    {
      "cell_type": "code",
      "metadata": {
        "id": "U_QF-x_rKUaa",
        "colab_type": "code",
        "outputId": "3f912efe-2d29-453a-9f3e-55c86f064022",
        "colab": {
          "base_uri": "https://localhost:8080/",
          "height": 50
        }
      },
      "source": [
        "print(y_train[0])\n",
        "\n",
        "y_train = keras.utils.to_categorical(y_train, 10)\n",
        "y_test = keras.utils.to_categorical(y_test, 10)\n",
        "\n",
        "print(y_train[0])"
      ],
      "execution_count": 14,
      "outputs": [
        {
          "output_type": "stream",
          "text": [
            "5\n",
            "[0. 0. 0. 0. 0. 1. 0. 0. 0. 0.]\n"
          ],
          "name": "stdout"
        }
      ]
    },
    {
      "cell_type": "code",
      "metadata": {
        "id": "1MtJIiplMENi",
        "colab_type": "code",
        "colab": {}
      },
      "source": [
        "model = keras.models.Sequential()\n",
        "model.add(keras.layers.Conv2D(32, kernel_size=(3, 3), activation='relu',\n",
        "                              input_shape=input_shape))\n",
        "\n",
        "model.add(keras.layers.Conv2D(64, (3, 3), activation='relu'))\n",
        "model.add(keras.layers.MaxPooling2D(pool_size=(2, 2)))\n",
        "model.add(keras.layers.Dropout(0.25))\n",
        "model.add(keras.layers.Flatten())\n",
        "model.add(keras.layers.Dense(128, activation='relu'))\n",
        "model.add(keras.layers.Dropout(0.5))\n",
        "model.add(keras.layers.Dense(10, activation='softmax'))"
      ],
      "execution_count": 0,
      "outputs": []
    },
    {
      "cell_type": "code",
      "metadata": {
        "id": "fMt_3Q27MlFU",
        "colab_type": "code",
        "outputId": "7a2ad973-598b-451a-ebde-8716fe599411",
        "colab": {
          "base_uri": "https://localhost:8080/",
          "height": 1000
        }
      },
      "source": [
        "model.compile(loss=keras.losses.categorical_crossentropy,\n",
        "              optimizer=keras.optimizers.Adadelta(),\n",
        "              metrics=['accuracy'])\n",
        "\n",
        "hist=model.fit(x_train, y_train,\n",
        "          batch_size=128,\n",
        "          epochs=30,\n",
        "          validation_data=(x_test, y_test))"
      ],
      "execution_count": 16,
      "outputs": [
        {
          "output_type": "stream",
          "text": [
            "Train on 60000 samples, validate on 10000 samples\n",
            "Epoch 1/30\n",
            "60000/60000 [==============================] - 136s 2ms/step - loss: 0.2651 - accuracy: 0.9182 - val_loss: 0.0572 - val_accuracy: 0.9812\n",
            "Epoch 2/30\n",
            "60000/60000 [==============================] - 140s 2ms/step - loss: 0.0900 - accuracy: 0.9737 - val_loss: 0.0434 - val_accuracy: 0.9858\n",
            "Epoch 3/30\n",
            "60000/60000 [==============================] - 135s 2ms/step - loss: 0.0679 - accuracy: 0.9798 - val_loss: 0.0347 - val_accuracy: 0.9884\n",
            "Epoch 4/30\n",
            "60000/60000 [==============================] - 136s 2ms/step - loss: 0.0576 - accuracy: 0.9830 - val_loss: 0.0313 - val_accuracy: 0.9897\n",
            "Epoch 5/30\n",
            "60000/60000 [==============================] - 136s 2ms/step - loss: 0.0467 - accuracy: 0.9858 - val_loss: 0.0316 - val_accuracy: 0.9896\n",
            "Epoch 6/30\n",
            "60000/60000 [==============================] - 142s 2ms/step - loss: 0.0420 - accuracy: 0.9873 - val_loss: 0.0295 - val_accuracy: 0.9897\n",
            "Epoch 7/30\n",
            "60000/60000 [==============================] - 137s 2ms/step - loss: 0.0384 - accuracy: 0.9886 - val_loss: 0.0304 - val_accuracy: 0.9898\n",
            "Epoch 8/30\n",
            "60000/60000 [==============================] - 137s 2ms/step - loss: 0.0353 - accuracy: 0.9887 - val_loss: 0.0274 - val_accuracy: 0.9913\n",
            "Epoch 9/30\n",
            "60000/60000 [==============================] - 138s 2ms/step - loss: 0.0314 - accuracy: 0.9904 - val_loss: 0.0308 - val_accuracy: 0.9909\n",
            "Epoch 10/30\n",
            "60000/60000 [==============================] - 139s 2ms/step - loss: 0.0293 - accuracy: 0.9907 - val_loss: 0.0295 - val_accuracy: 0.9907\n",
            "Epoch 11/30\n",
            "60000/60000 [==============================] - 138s 2ms/step - loss: 0.0285 - accuracy: 0.9912 - val_loss: 0.0281 - val_accuracy: 0.9907\n",
            "Epoch 12/30\n",
            "60000/60000 [==============================] - 138s 2ms/step - loss: 0.0253 - accuracy: 0.9922 - val_loss: 0.0286 - val_accuracy: 0.9915\n",
            "Epoch 13/30\n",
            "60000/60000 [==============================] - 134s 2ms/step - loss: 0.0255 - accuracy: 0.9925 - val_loss: 0.0290 - val_accuracy: 0.9909\n",
            "Epoch 14/30\n",
            "60000/60000 [==============================] - 136s 2ms/step - loss: 0.0240 - accuracy: 0.9922 - val_loss: 0.0302 - val_accuracy: 0.9908\n",
            "Epoch 15/30\n",
            "60000/60000 [==============================] - 134s 2ms/step - loss: 0.0230 - accuracy: 0.9936 - val_loss: 0.0277 - val_accuracy: 0.9917\n",
            "Epoch 16/30\n",
            "60000/60000 [==============================] - 135s 2ms/step - loss: 0.0232 - accuracy: 0.9926 - val_loss: 0.0292 - val_accuracy: 0.9918\n",
            "Epoch 17/30\n",
            "60000/60000 [==============================] - 133s 2ms/step - loss: 0.0223 - accuracy: 0.9932 - val_loss: 0.0299 - val_accuracy: 0.9911\n",
            "Epoch 18/30\n",
            "60000/60000 [==============================] - 133s 2ms/step - loss: 0.0213 - accuracy: 0.9931 - val_loss: 0.0276 - val_accuracy: 0.9907\n",
            "Epoch 19/30\n",
            "60000/60000 [==============================] - 133s 2ms/step - loss: 0.0203 - accuracy: 0.9936 - val_loss: 0.0316 - val_accuracy: 0.9904\n",
            "Epoch 20/30\n",
            "60000/60000 [==============================] - 134s 2ms/step - loss: 0.0197 - accuracy: 0.9938 - val_loss: 0.0270 - val_accuracy: 0.9920\n",
            "Epoch 21/30\n",
            "60000/60000 [==============================] - 134s 2ms/step - loss: 0.0195 - accuracy: 0.9939 - val_loss: 0.0279 - val_accuracy: 0.9921\n",
            "Epoch 22/30\n",
            "60000/60000 [==============================] - 135s 2ms/step - loss: 0.0193 - accuracy: 0.9941 - val_loss: 0.0277 - val_accuracy: 0.9928\n",
            "Epoch 23/30\n",
            "60000/60000 [==============================] - 135s 2ms/step - loss: 0.0189 - accuracy: 0.9939 - val_loss: 0.0294 - val_accuracy: 0.9915\n",
            "Epoch 24/30\n",
            "60000/60000 [==============================] - 135s 2ms/step - loss: 0.0182 - accuracy: 0.9943 - val_loss: 0.0304 - val_accuracy: 0.9928\n",
            "Epoch 25/30\n",
            "60000/60000 [==============================] - 137s 2ms/step - loss: 0.0175 - accuracy: 0.9946 - val_loss: 0.0273 - val_accuracy: 0.9928\n",
            "Epoch 26/30\n",
            "60000/60000 [==============================] - 138s 2ms/step - loss: 0.0183 - accuracy: 0.9940 - val_loss: 0.0270 - val_accuracy: 0.9927\n",
            "Epoch 27/30\n",
            "60000/60000 [==============================] - 138s 2ms/step - loss: 0.0175 - accuracy: 0.9944 - val_loss: 0.0285 - val_accuracy: 0.9918\n",
            "Epoch 28/30\n",
            "60000/60000 [==============================] - 139s 2ms/step - loss: 0.0167 - accuracy: 0.9947 - val_loss: 0.0271 - val_accuracy: 0.9928\n",
            "Epoch 29/30\n",
            "60000/60000 [==============================] - 143s 2ms/step - loss: 0.0159 - accuracy: 0.9953 - val_loss: 0.0299 - val_accuracy: 0.9931\n",
            "Epoch 30/30\n",
            "60000/60000 [==============================] - 139s 2ms/step - loss: 0.0162 - accuracy: 0.9947 - val_loss: 0.0324 - val_accuracy: 0.9916\n"
          ],
          "name": "stdout"
        }
      ]
    },
    {
      "cell_type": "code",
      "metadata": {
        "id": "ezkHzKAKNMQE",
        "colab_type": "code",
        "outputId": "17e5facb-1ae6-42f4-d0e9-36e0cb93cc40",
        "colab": {
          "base_uri": "https://localhost:8080/",
          "height": 50
        }
      },
      "source": [
        "print(model.evaluate(x_test, y_test))"
      ],
      "execution_count": 17,
      "outputs": [
        {
          "output_type": "stream",
          "text": [
            "10000/10000 [==============================] - 6s 601us/step\n",
            "[0.03240353517539348, 0.991599977016449]\n"
          ],
          "name": "stdout"
        }
      ]
    },
    {
      "cell_type": "code",
      "metadata": {
        "id": "PBQVZ8NYTNfS",
        "colab_type": "code",
        "colab": {
          "base_uri": "https://localhost:8080/",
          "height": 406
        },
        "outputId": "38b1f421-f86c-4331-b493-5a5b62769965"
      },
      "source": [
        "train_acc=hist.history['accuracy']\n",
        "test_acc=hist.history['val_accuracy']\n",
        "train_error=hist.history['loss']\n",
        "test_error=hist.history['val_loss']\n",
        "xc=range(30)\n",
        "\n",
        "plt.figure(1,figsize=(7,5))\n",
        "plt.plot(xc,train_error)\n",
        "plt.plot(xc,test_error)\n",
        "plt.xlabel('Num of Epochs')\n",
        "plt.ylabel('Loss')\n",
        "plt.title('train_loss vs test_loss')\n",
        "plt.legend(['train','test'])\n",
        "plt.style.use(['classic'])"
      ],
      "execution_count": 25,
      "outputs": [
        {
          "output_type": "display_data",
          "data": {
            "image/png": "[encoded data removed]",
            "text/plain": [
              "<Figure size 560x400 with 1 Axes>"
            ]
          },
          "metadata": {
            "tags": []
          }
        }
      ]
    },
    {
      "cell_type": "code",
      "metadata": {
        "id": "SfRdP-ZYl2tC",
        "colab_type": "code",
        "colab": {
          "base_uri": "https://localhost:8080/",
          "height": 406
        },
        "outputId": "b22694e0-c133-4aeb-bc24-e868d28ac275"
      },
      "source": [
        "plt.figure(2,figsize=(7,5))\n",
        "plt.plot(xc,train_acc)\n",
        "plt.plot(xc,test_acc)\n",
        "plt.xlabel('Num of Epochs')\n",
        "plt.ylabel('Accuracy')\n",
        "plt.title('Train_acc vs Test_acc')\n",
        "plt.legend(['train','val'],loc=4)\n",
        "plt.style.use(['classic'])"
      ],
      "execution_count": 26,
      "outputs": [
        {
          "output_type": "display_data",
          "data": {
            "image/png": "[encoded data removed]",
            "text/plain": [
              "<Figure size 560x400 with 1 Axes>"
            ]
          },
          "metadata": {
            "tags": []
          }
        }
      ]
    },
    {
      "cell_type": "code",
      "metadata": {
        "id": "vDAEMbajNu9t",
        "colab_type": "code",
        "outputId": "52395c08-4916-4a3b-d391-071e913b21db",
        "colab": {
          "base_uri": "https://localhost:8080/",
          "height": 420
        }
      },
      "source": [
        "model.summary()\n",
        "#test=99.31\n",
        "#train=99.53 till 29 epoch \n",
        "\n"
      ],
      "execution_count": 28,
      "outputs": [
        {
          "output_type": "stream",
          "text": [
            "Model: \"sequential_3\"\n",
            "_________________________________________________________________\n",
            "Layer (type)                 Output Shape              Param #   \n",
            "=================================================================\n",
            "conv2d_5 (Conv2D)            (None, 26, 26, 32)        320       \n",
            "_________________________________________________________________\n",
            "conv2d_6 (Conv2D)            (None, 24, 24, 64)        18496     \n",
            "_________________________________________________________________\n",
            "max_pooling2d_3 (MaxPooling2 (None, 12, 12, 64)        0         \n",
            "_________________________________________________________________\n",
            "dropout_5 (Dropout)          (None, 12, 12, 64)        0         \n",
            "_________________________________________________________________\n",
            "flatten_3 (Flatten)          (None, 9216)              0         \n",
            "_________________________________________________________________\n",
            "dense_5 (Dense)              (None, 128)               1179776   \n",
            "_________________________________________________________________\n",
            "dropout_6 (Dropout)          (None, 128)               0         \n",
            "_________________________________________________________________\n",
            "dense_6 (Dense)              (None, 10)                1290      \n",
            "=================================================================\n",
            "Total params: 1,199,882\n",
            "Trainable params: 1,199,882\n",
            "Non-trainable params: 0\n",
            "_________________________________________________________________\n"
          ],
          "name": "stdout"
        }
      ]
    },
    {
      "cell_type": "code",
      "metadata": {
        "id": "6EcPEoJSnBrP",
        "colab_type": "code",
        "colab": {}
      },
      "source": [
        ""
      ],
      "execution_count": 0,
      "outputs": []
    }
  ]
}